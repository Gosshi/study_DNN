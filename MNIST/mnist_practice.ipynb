{
  "nbformat": 4,
  "nbformat_minor": 0,
  "metadata": {
    "colab": {
      "name": "mnist_practice.ipynb",
      "version": "0.3.2",
      "provenance": [],
      "include_colab_link": true
    },
    "language_info": {
      "codemirror_mode": {
        "name": "ipython",
        "version": 3
      },
      "file_extension": ".py",
      "mimetype": "text/x-python",
      "name": "python",
      "nbconvert_exporter": "python",
      "pygments_lexer": "ipython3",
      "version": "3.6.2"
    },
    "kernelspec": {
      "name": "python3",
      "display_name": "Python 3"
    },
    "accelerator": "GPU"
  },
  "cells": [
    {
      "cell_type": "markdown",
      "metadata": {
        "id": "view-in-github",
        "colab_type": "text"
      },
      "source": [
        "<a href=\"https://colab.research.google.com/github/Gosshi/study_DNN/blob/Gosshi%2Fmnist_sample/MNIST/mnist_practice.ipynb\" target=\"_parent\"><img src=\"https://colab.research.google.com/assets/colab-badge.svg\" alt=\"Open In Colab\"/></a>"
      ]
    },
    {
      "cell_type": "code",
      "metadata": {
        "id": "CApWN5_yZDDj",
        "colab_type": "code",
        "colab": {
          "base_uri": "https://localhost:8080/",
          "height": 122
        },
        "outputId": "7e944a8c-7ad5-4f3d-ba40-2dacd89fbed9"
      },
      "source": [
        "from google.colab import drive\n",
        "drive.mount('/content/drive')"
      ],
      "execution_count": 6,
      "outputs": [
        {
          "output_type": "stream",
          "text": [
            "Go to this URL in a browser: https://accounts.google.com/o/oauth2/auth?client_id=947318989803-6bn6qk8qdgf4n4g3pfee6491hc0brc4i.apps.googleusercontent.com&redirect_uri=urn%3Aietf%3Awg%3Aoauth%3A2.0%3Aoob&scope=email%20https%3A%2F%2Fwww.googleapis.com%2Fauth%2Fdocs.test%20https%3A%2F%2Fwww.googleapis.com%2Fauth%2Fdrive%20https%3A%2F%2Fwww.googleapis.com%2Fauth%2Fdrive.photos.readonly%20https%3A%2F%2Fwww.googleapis.com%2Fauth%2Fpeopleapi.readonly&response_type=code\n",
            "\n",
            "Enter your authorization code:\n",
            "··········\n",
            "Mounted at /content/drive\n"
          ],
          "name": "stdout"
        }
      ]
    },
    {
      "cell_type": "markdown",
      "metadata": {
        "id": "rLbm5QZaZDDu",
        "colab_type": "text"
      },
      "source": [
        "google colab 用に使用 URLのhttps://github.com を https://colab.research.google.com/github に変換する"
      ]
    },
    {
      "cell_type": "code",
      "metadata": {
        "id": "unVSzIoMZDDw",
        "colab_type": "code",
        "colab": {}
      },
      "source": [
        "import matplotlib.pyplot as plt\n",
        "import torchvision.transforms as transforms\n",
        "from torch.utils.data import DataLoader\n",
        "from torchvision.datasets import MNIST"
      ],
      "execution_count": 0,
      "outputs": []
    },
    {
      "cell_type": "code",
      "metadata": {
        "id": "bgGlHNeJZDDz",
        "colab_type": "code",
        "colab": {
          "base_uri": "https://localhost:8080/",
          "height": 524
        },
        "outputId": "f0bd4b9b-7105-4061-c082-5572fa983d4c"
      },
      "source": [
        "mnist_data = MNIST('~/tmp/mnist', train=True, download=True, transform=transforms.ToTensor())\n",
        "data_loader = DataLoader(mnist_data,batch_size=4,shuffle=False)\n",
        "data_iterator = iter(data_loader)\n",
        "\n",
        "images, labels = data_iterator.next()\n",
        "data = images[2].numpy()\n",
        "plt.imshow(data.reshape(28, 28), cmap='inferno', interpolation='bicubic')\n",
        "plt.show()\n",
        "\n",
        "print('ラベル:', labels[0])"
      ],
      "execution_count": 8,
      "outputs": [
        {
          "output_type": "stream",
          "text": [
            "  0%|          | 16384/9912422 [00:00<01:29, 110961.18it/s]"
          ],
          "name": "stderr"
        },
        {
          "output_type": "stream",
          "text": [
            "Downloading http://yann.lecun.com/exdb/mnist/train-images-idx3-ubyte.gz to /root/tmp/mnist/MNIST/raw/train-images-idx3-ubyte.gz\n"
          ],
          "name": "stdout"
        },
        {
          "output_type": "stream",
          "text": [
            "9920512it [00:00, 28750018.60it/s]                           \n"
          ],
          "name": "stderr"
        },
        {
          "output_type": "stream",
          "text": [
            "Extracting /root/tmp/mnist/MNIST/raw/train-images-idx3-ubyte.gz\n"
          ],
          "name": "stdout"
        },
        {
          "output_type": "stream",
          "text": [
            "32768it [00:00, 454038.95it/s]\n",
            "  1%|          | 16384/1648877 [00:00<00:11, 145862.82it/s]"
          ],
          "name": "stderr"
        },
        {
          "output_type": "stream",
          "text": [
            "Downloading http://yann.lecun.com/exdb/mnist/train-labels-idx1-ubyte.gz to /root/tmp/mnist/MNIST/raw/train-labels-idx1-ubyte.gz\n",
            "Extracting /root/tmp/mnist/MNIST/raw/train-labels-idx1-ubyte.gz\n",
            "Downloading http://yann.lecun.com/exdb/mnist/t10k-images-idx3-ubyte.gz to /root/tmp/mnist/MNIST/raw/t10k-images-idx3-ubyte.gz\n"
          ],
          "name": "stdout"
        },
        {
          "output_type": "stream",
          "text": [
            "1654784it [00:00, 5813918.18it/s]                           \n",
            "8192it [00:00, 182628.57it/s]\n"
          ],
          "name": "stderr"
        },
        {
          "output_type": "stream",
          "text": [
            "Extracting /root/tmp/mnist/MNIST/raw/t10k-images-idx3-ubyte.gz\n",
            "Downloading http://yann.lecun.com/exdb/mnist/t10k-labels-idx1-ubyte.gz to /root/tmp/mnist/MNIST/raw/t10k-labels-idx1-ubyte.gz\n",
            "Extracting /root/tmp/mnist/MNIST/raw/t10k-labels-idx1-ubyte.gz\n",
            "Processing...\n",
            "Done!\n"
          ],
          "name": "stdout"
        },
        {
          "output_type": "display_data",
          "data": {
            "image/png": "[encoded data removed]",
            "text/plain": [
              "<Figure size 432x288 with 1 Axes>"
            ]
          },
          "metadata": {
            "tags": []
          }
        },
        {
          "output_type": "stream",
          "text": [
            "ラベル: tensor(5)\n"
          ],
          "name": "stdout"
        }
      ]
    },
    {
      "cell_type": "code",
      "metadata": {
        "id": "hOFWd30eZDD3",
        "colab_type": "code",
        "colab": {}
      },
      "source": [
        "# 学習データ\n",
        "train_data_with_label = MNIST('~/tmp/mnist', train=True, download=True, transform=transforms.ToTensor())\n",
        "train_data_loader = DataLoader(train_data_with_label,batch_size=1000,shuffle=True)\n",
        "# 検証データ\n",
        "test_data_with_label = MNIST('~/tmp/mnist', train=False, download=True, transform=transforms.ToTensor())\n",
        "test_data_loader = DataLoader(test_data_with_label,batch_size=1000,shuffle=False)"
      ],
      "execution_count": 0,
      "outputs": []
    },
    {
      "cell_type": "code",
      "metadata": {
        "id": "ZGj6ELola_n0",
        "colab_type": "code",
        "colab": {
          "base_uri": "https://localhost:8080/",
          "height": 51
        },
        "outputId": "73e18648-42ff-4c9a-fea1-ddfc2cd4d713"
      },
      "source": [
        "import torch.nn as nn\n",
        "from torch.autograd import Variable\n",
        "import torch.nn.functional as F\n",
        "\n",
        "\"\"\"\n",
        "学習パラメタを持つものはinitに、関数はforwardに。\n",
        "公式チュートリアルはこの書き方。(Poolingもパラメタは無いからforward)\n",
        "print(model)で出力されるのはinitに描かれたもの。\n",
        "\"\"\"\n",
        "\n",
        "class CNN(nn.Module):\n",
        "    def __init__(self):\n",
        "        # クラスの初期化\n",
        "        super(CNN, self).__init__()\n",
        "        # 画像を畳み込みを行うまで\n",
        "        self.head = nn.Sequential(\n",
        "            nn.Conv2d(in_channels=1, out_channels=10, kernel_size=(5, 5), stride=1, padding=0),\n",
        "            nn.ReLU(),\n",
        "            nn.MaxPool2d(kernel_size=2),\n",
        "            nn.Dropout(p=0.2),\n",
        "            nn.Conv2d(in_channels=10, out_channels=20, kernel_size=(5, 5), stride=1, padding=0),\n",
        "            nn.ReLU(),\n",
        "            nn.MaxPool2d(kernel_size=2)\n",
        "        )\n",
        "        # 畳み込みで得られたベクトルを出力層に順伝播させるまで\n",
        "        self.tail = nn.Sequential(\n",
        "            nn.Linear(320, 50),\n",
        "            nn.ReLU(),\n",
        "            nn.Linear(50, 50),\n",
        "            nn.ReLU(),\n",
        "            nn.Linear(50, 10)\n",
        "        )\n",
        " \n",
        "    def forward(self, x):\n",
        "        # 順伝播を計算する関数\n",
        "        # :param x: 入力値\n",
        "        h = self.head(x)\n",
        "        h = h.view(-1, 320)\n",
        "        \"\"\"\n",
        "        Tensorのサイズ変換関数\n",
        "        １つ目の引数に-1を入れることで、２つ目の引数で指定した値にサイズ数を自動的に調整してくれます。\n",
        "        Tensorの要素数が指定したサイズ数に合わない（割り切れない）場合、エラーになります。\n",
        "        もちろん、サイズ数を指定することもできます。\n",
        "        \"\"\"\n",
        "        h = self.tail(h)\n",
        "        y = F.log_softmax(h)\n",
        "        return y\n",
        "import torch\n",
        "device = torch.device(\"cuda\" if torch.cuda.is_available() else \"cpu\")\n",
        "print(device)\n",
        "\n",
        "model = CNN().cuda()\n",
        "#model.to(\"cuda:0\")\n",
        "#model = net.Net(params).cuda() if params.cuda else net.Net(params)\n",
        "#model.cuda()\n",
        "print(torch.cuda.is_available())"
      ],
      "execution_count": 10,
      "outputs": [
        {
          "output_type": "stream",
          "text": [
            "cuda\n",
            "True\n"
          ],
          "name": "stdout"
        }
      ]
    },
    {
      "cell_type": "code",
      "metadata": {
        "id": "VphzhgHEfAnp",
        "colab_type": "code",
        "colab": {}
      },
      "source": [
        "from torch import optim\n",
        " \n",
        "# 誤差関数の設定\n",
        "loss_fn = nn.CrossEntropyLoss()  # 変数名にはcriterionも使われる\n",
        " \n",
        "# 重みを学習する際の最適化手法の選択\n",
        "optimizer = optim.Adam(model.parameters(), lr=0.01)\n",
        "# ここまでが学習に必要な準備など"
      ],
      "execution_count": 0,
      "outputs": []
    },
    {
      "cell_type": "code",
      "metadata": {
        "id": "L03JdLlhfOB3",
        "colab_type": "code",
        "colab": {}
      },
      "source": [
        "# 5. 学習と推論の設定\n",
        "# 5-1. 学習1回でやることを定義します\n",
        "# Chainerのtraining.Trainer()に対応するものはない\n",
        " \n",
        "from torch.autograd import Variable\n",
        " \n",
        " \n",
        "def train(epoch):\n",
        "    model.train()  # ネットワークを学習モードに切り替える\n",
        " \n",
        "    # データローダーから1ミニバッチずつ取り出して計算する\n",
        "    for data, target in train_data_loader:\n",
        "        data, target = Variable(data).cuda() , Variable(target).cuda()   # 微分可能に変換\n",
        "        #print(data.size())\n",
        "        optimizer.zero_grad()  # 一度計算された勾配結果を0にリセット\n",
        "        #data = data.view(1, -1)\n",
        "        #print('02')\n",
        "        output = model(data)  # 入力dataをinputし、出力を求める\n",
        "        #print('02')\n",
        "        loss = loss_fn(output, target)  # 出力と訓練データの正解との誤差を求める\n",
        "        loss.backward()  # 誤差のバックプロパゲーションを求める\n",
        "        optimizer.step()  # バックプロパゲーションの値で重みを更新する\n",
        "    print('epoch %d, loss: %.4f'\n",
        "              % (epoch, loss))\n",
        "    #print(\"epoch{}：終了\\n\".format(epoch))"
      ],
      "execution_count": 0,
      "outputs": []
    },
    {
      "cell_type": "code",
      "metadata": {
        "id": "NcM_u2ZegkKM",
        "colab_type": "code",
        "colab": {}
      },
      "source": [
        "# 5. 学習と推論の設定\n",
        "# 5-2. 推論1回でやることを定義します\n",
        "# Chainerのtrainer.extend(extensions.Evaluator())に対応するものはない\n",
        " \n",
        " \n",
        "def test():\n",
        "    model.eval()  # ネットワークを推論モードに切り替える\n",
        "    correct = 0\n",
        " \n",
        "    # データローダーから1ミニバッチずつ取り出して計算する\n",
        "    for data, target in test_data_loader:\n",
        "        data, target = Variable(data).cuda() , Variable(target).cuda()   # 微分可能に変換\n",
        "        output = model(data)  # 入力dataをinputし、出力を求める\n",
        " \n",
        "        # 推論する\n",
        "        pred = output.data.max(1, keepdim=True)[1]  # 出力ラベルを求める\n",
        "        #print(pred,target)\n",
        "        correct += pred.eq(target.data.view_as(pred)).sum()  # 正解と一緒だったらカウントアップ\n",
        " \n",
        "    # 正解率を出力\n",
        "    data_num = len(test_data_loader.dataset)  # データの総数\n",
        "    print('\\nテストデータの正解率: {}/{} ({:.0f}%)\\n'.format(correct,\n",
        "                                                   data_num, 100. * correct / data_num))"
      ],
      "execution_count": 0,
      "outputs": []
    },
    {
      "cell_type": "code",
      "metadata": {
        "id": "AWou8d2Egk5U",
        "colab_type": "code",
        "colab": {
          "base_uri": "https://localhost:8080/",
          "height": 1000
        },
        "outputId": "b2874525-b7b9-43d2-882f-b35879ca03b3"
      },
      "source": [
        "# 6. 学習と推論の実行\n",
        "for epoch in range(100):\n",
        "    train(epoch)"
      ],
      "execution_count": 19,
      "outputs": [
        {
          "output_type": "stream",
          "text": [
            "/usr/local/lib/python3.6/dist-packages/ipykernel_launcher.py:46: UserWarning: Implicit dimension choice for log_softmax has been deprecated. Change the call to include dim=X as an argument.\n"
          ],
          "name": "stderr"
        },
        {
          "output_type": "stream",
          "text": [
            "epoch 0, loss: 0.0073\n",
            "epoch 1, loss: 0.0276\n",
            "epoch 2, loss: 0.0174\n",
            "epoch 3, loss: 0.0107\n",
            "epoch 4, loss: 0.0119\n",
            "epoch 5, loss: 0.0044\n",
            "epoch 6, loss: 0.0120\n",
            "epoch 7, loss: 0.0085\n",
            "epoch 8, loss: 0.0054\n",
            "epoch 9, loss: 0.0082\n",
            "epoch 10, loss: 0.0146\n",
            "epoch 11, loss: 0.0164\n",
            "epoch 12, loss: 0.0361\n",
            "epoch 13, loss: 0.0028\n",
            "epoch 14, loss: 0.0166\n",
            "epoch 15, loss: 0.0092\n",
            "epoch 16, loss: 0.0075\n",
            "epoch 17, loss: 0.0121\n",
            "epoch 18, loss: 0.0325\n",
            "epoch 19, loss: 0.0037\n",
            "epoch 20, loss: 0.0023\n",
            "epoch 21, loss: 0.0050\n",
            "epoch 22, loss: 0.0114\n",
            "epoch 23, loss: 0.0237\n",
            "epoch 24, loss: 0.0008\n",
            "epoch 25, loss: 0.0024\n",
            "epoch 26, loss: 0.0350\n",
            "epoch 27, loss: 0.0072\n",
            "epoch 28, loss: 0.0166\n",
            "epoch 29, loss: 0.0224\n",
            "epoch 30, loss: 0.0106\n",
            "epoch 31, loss: 0.0008\n",
            "epoch 32, loss: 0.0330\n",
            "epoch 33, loss: 0.0042\n",
            "epoch 34, loss: 0.0249\n",
            "epoch 35, loss: 0.0278\n",
            "epoch 36, loss: 0.0011\n",
            "epoch 37, loss: 0.0051\n",
            "epoch 38, loss: 0.0057\n",
            "epoch 39, loss: 0.0072\n",
            "epoch 40, loss: 0.0120\n",
            "epoch 41, loss: 0.0039\n",
            "epoch 42, loss: 0.0052\n",
            "epoch 43, loss: 0.0439\n",
            "epoch 44, loss: 0.0296\n",
            "epoch 45, loss: 0.0046\n",
            "epoch 46, loss: 0.0161\n",
            "epoch 47, loss: 0.0057\n",
            "epoch 48, loss: 0.0036\n",
            "epoch 49, loss: 0.0162\n",
            "epoch 50, loss: 0.0193\n",
            "epoch 51, loss: 0.0062\n",
            "epoch 52, loss: 0.0404\n",
            "epoch 53, loss: 0.0108\n",
            "epoch 54, loss: 0.0063\n",
            "epoch 55, loss: 0.0189\n",
            "epoch 56, loss: 0.0021\n",
            "epoch 57, loss: 0.0120\n",
            "epoch 58, loss: 0.0188\n",
            "epoch 59, loss: 0.0230\n",
            "epoch 60, loss: 0.0129\n",
            "epoch 61, loss: 0.0099\n",
            "epoch 62, loss: 0.0363\n",
            "epoch 63, loss: 0.0218\n",
            "epoch 64, loss: 0.0134\n",
            "epoch 65, loss: 0.0172\n",
            "epoch 66, loss: 0.0209\n",
            "epoch 67, loss: 0.0066\n",
            "epoch 68, loss: 0.0232\n",
            "epoch 69, loss: 0.0054\n",
            "epoch 70, loss: 0.0121\n",
            "epoch 71, loss: 0.0067\n",
            "epoch 72, loss: 0.0127\n",
            "epoch 73, loss: 0.0062\n",
            "epoch 74, loss: 0.0148\n",
            "epoch 75, loss: 0.0230\n",
            "epoch 76, loss: 0.0102\n",
            "epoch 77, loss: 0.0061\n",
            "epoch 78, loss: 0.0052\n",
            "epoch 79, loss: 0.0170\n",
            "epoch 80, loss: 0.0164\n",
            "epoch 81, loss: 0.0009\n",
            "epoch 82, loss: 0.0207\n",
            "epoch 83, loss: 0.0173\n",
            "epoch 84, loss: 0.0258\n",
            "epoch 85, loss: 0.0067\n",
            "epoch 86, loss: 0.0063\n",
            "epoch 87, loss: 0.0012\n",
            "epoch 88, loss: 0.0104\n",
            "epoch 89, loss: 0.0138\n",
            "epoch 90, loss: 0.0177\n",
            "epoch 91, loss: 0.0025\n",
            "epoch 92, loss: 0.0088\n",
            "epoch 93, loss: 0.0186\n",
            "epoch 94, loss: 0.0060\n",
            "epoch 95, loss: 0.0039\n",
            "epoch 96, loss: 0.0097\n",
            "epoch 97, loss: 0.0165\n",
            "epoch 98, loss: 0.0019\n",
            "epoch 99, loss: 0.0310\n"
          ],
          "name": "stdout"
        }
      ]
    },
    {
      "cell_type": "code",
      "metadata": {
        "id": "vx-mOCS3mHEU",
        "colab_type": "code",
        "colab": {}
      },
      "source": [
        "# 何度も学習するのだるい\n",
        "test()"
      ],
      "execution_count": 0,
      "outputs": []
    }
  ]
}