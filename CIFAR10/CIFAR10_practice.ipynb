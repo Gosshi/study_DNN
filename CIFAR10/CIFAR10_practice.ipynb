{
  "nbformat": 4,
  "nbformat_minor": 0,
  "metadata": {
    "colab": {
      "name": "CIFAR10_practice.ipynb",
      "version": "0.3.2",
      "provenance": [],
      "include_colab_link": true
    },
    "language_info": {
      "codemirror_mode": {
        "name": "ipython",
        "version": 3
      },
      "file_extension": ".py",
      "mimetype": "text/x-python",
      "name": "python",
      "nbconvert_exporter": "python",
      "pygments_lexer": "ipython3",
      "version": "3.6.2"
    },
    "kernelspec": {
      "name": "python3",
      "display_name": "Python 3"
    },
    "accelerator": "GPU"
  },
  "cells": [
    {
      "cell_type": "markdown",
      "metadata": {
        "id": "view-in-github",
        "colab_type": "text"
      },
      "source": [
        "<a href=\"https://colab.research.google.com/github/Gosshi/study_DNN/blob/Gosshi%2FCIFAR10_sample/CIFAR10/CIFAR10_practice.ipynb\" target=\"_parent\"><img src=\"https://colab.research.google.com/assets/colab-badge.svg\" alt=\"Open In Colab\"/></a>"
      ]
    },
    {
      "cell_type": "code",
      "metadata": {
        "id": "CHwXZE-Y31SZ",
        "colab_type": "code",
        "colab": {
          "base_uri": "https://localhost:8080/",
          "height": 122
        },
        "outputId": "d2102c59-f5b3-4ef9-818b-a4114d87c111"
      },
      "source": [
        "from google.colab import drive\n",
        "drive.mount('/content/drive')"
      ],
      "execution_count": 1,
      "outputs": [
        {
          "output_type": "stream",
          "text": [
            "Go to this URL in a browser: https://accounts.google.com/o/oauth2/auth?client_id=947318989803-6bn6qk8qdgf4n4g3pfee6491hc0brc4i.apps.googleusercontent.com&redirect_uri=urn%3Aietf%3Awg%3Aoauth%3A2.0%3Aoob&scope=email%20https%3A%2F%2Fwww.googleapis.com%2Fauth%2Fdocs.test%20https%3A%2F%2Fwww.googleapis.com%2Fauth%2Fdrive%20https%3A%2F%2Fwww.googleapis.com%2Fauth%2Fdrive.photos.readonly%20https%3A%2F%2Fwww.googleapis.com%2Fauth%2Fpeopleapi.readonly&response_type=code\n",
            "\n",
            "Enter your authorization code:\n",
            "··········\n",
            "Mounted at /content/drive\n"
          ],
          "name": "stdout"
        }
      ]
    },
    {
      "cell_type": "code",
      "metadata": {
        "id": "eMwI7SzC54Zi",
        "colab_type": "code",
        "colab": {}
      },
      "source": [
        "import torch #基本モジュール\n",
        "from torch.autograd import Variable #自動微分用\n",
        "import torch.nn as nn #ネットワーク構築用\n",
        "import torch.optim as optim #最適化関数\n",
        "import torch.nn.functional as F #ネットワーク用の様々な関数\n",
        "from torch.utils.data import DataLoader #データセット読み込み関連\n",
        "import torchvision #画像関連\n",
        "from torchvision import datasets, models, transforms #画像用データセット諸々\n",
        "import torchvision.transforms as transforms\n",
        "import matplotlib.pyplot as plt"
      ],
      "execution_count": 0,
      "outputs": []
    },
    {
      "cell_type": "code",
      "metadata": {
        "id": "kvDteHUb4Pqj",
        "colab_type": "code",
        "colab": {
          "base_uri": "https://localhost:8080/",
          "height": 34
        },
        "outputId": "4949e393-29dc-4074-9b22-62c20305f166"
      },
      "source": [
        "transform = transforms.Compose([transforms.ToTensor(),transforms.Normalize((0.5, 0.5, 0.5), (0.5, 0.5, 0.5))])\n",
        "CIFAR10_data = datasets.CIFAR10('~/tmp/CIFAR10', train = True, download = True, transform = transform)\n",
        "data_loader = DataLoader(CIFAR10_data ,batch_size = 4, shuffle = False)\n",
        "data_iterator = iter(data_loader)\n",
        "\n",
        "images,labels = data_iterator.next()"
      ],
      "execution_count": 54,
      "outputs": [
        {
          "output_type": "stream",
          "text": [
            "Files already downloaded and verified\n"
          ],
          "name": "stdout"
        }
      ]
    },
    {
      "cell_type": "code",
      "metadata": {
        "id": "s_H1jAwf_Cxf",
        "colab_type": "code",
        "colab": {
          "base_uri": "https://localhost:8080/",
          "height": 51
        },
        "outputId": "ec0448ee-20fc-4906-8a98-d695e2252a79"
      },
      "source": [
        "# 訓練データ\n",
        "train_data_with_label = datasets.CIFAR10('~/tmp/CIFAR10',train = True, download = True, transform = transforms.ToTensor())\n",
        "train_data_loader  = DataLoader(train_data_with_label, batch_size = 1000, shuffle = True)\n",
        "\n",
        "# 検証データ\n",
        "test_data_with_label = datasets.CIFAR10('~/tmp/CIFAR10',train = False, download = True, transform = transforms.ToTensor())\n",
        "test_data_loader  = DataLoader(test_data_with_label, batch_size = 1000, shuffle = True)\n",
        "\n",
        "classes = ('plane', 'car', 'bird', 'cat',\n",
        "           'deer', 'dog', 'frog', 'horse', 'ship', 'truck')"
      ],
      "execution_count": 55,
      "outputs": [
        {
          "output_type": "stream",
          "text": [
            "Files already downloaded and verified\n",
            "Files already downloaded and verified\n"
          ],
          "name": "stdout"
        }
      ]
    },
    {
      "cell_type": "code",
      "metadata": {
        "id": "PWZcN71G_6o9",
        "colab_type": "code",
        "colab": {}
      },
      "source": [
        "class mymodel(nn.Module):\n",
        " def __init__(self):\n",
        "        super(mymodel, self).__init__()\n",
        "        self.conv1 = nn.Conv2d(in_channels= 3, out_channels= 6, kernel_size= 5)\n",
        "        self.pool = nn.MaxPool2d(2, 2)\n",
        "        #self.drop = nn.Dropout(p = 0.2)\n",
        "        self.conv2 = nn.Conv2d(in_channels=6, out_channels=16, kernel_size= 5)\n",
        "        #self.conv3 = nn.Conv2d(in_channels=16, out_channels=32, kernel_size= 5)\n",
        "        self.fc1 = nn.Linear(16 * 5 * 5, 120)\n",
        "        self.fc2 = nn.Linear(120, 80)\n",
        "        self.fc3 = nn.Linear(80,10)\n",
        "\n",
        " def forward(self, x):\n",
        "        x = self.pool(F.relu(self.conv1(x)))\n",
        "        x = self.pool(F.relu(self.conv2(x)))\n",
        "        # x = self.pool(F.relu(self.conv3(x)))\n",
        "        x = x.view(-1, 16 * 5 * 5)\n",
        "        x = F.relu(self.fc1(x))\n",
        "        x = F.relu(self.fc2(x))\n",
        "        x = self.fc3(x)\n",
        "        return x"
      ],
      "execution_count": 0,
      "outputs": []
    },
    {
      "cell_type": "code",
      "metadata": {
        "id": "lcVZTfyuEZPw",
        "colab_type": "code",
        "colab": {}
      },
      "source": [
        "device = torch.device(\"cuda\")\n",
        "\n",
        "model = mymodel().cuda()"
      ],
      "execution_count": 0,
      "outputs": []
    },
    {
      "cell_type": "code",
      "metadata": {
        "id": "DupYmB1vEpWH",
        "colab_type": "code",
        "colab": {}
      },
      "source": [
        "# 誤差関数と 最適化手法\n",
        "loss_func = nn.CrossEntropyLoss()\n",
        "optimizer = optim.Adam(model.parameters(), lr = 0.01)"
      ],
      "execution_count": 0,
      "outputs": []
    },
    {
      "cell_type": "code",
      "metadata": {
        "id": "-Eo1LmoAE9pS",
        "colab_type": "code",
        "colab": {}
      },
      "source": [
        "def train(epoch):\n",
        "  model.train()\n",
        "  \n",
        "  for data, label in  train_data_loader:\n",
        "    data, label = Variable(data).cuda(), Variable(label).cuda()\n",
        "    optimizer.zero_grad()\n",
        "    output = model(data)\n",
        "    loss = loss_func(output,label)\n",
        "    loss.backward()\n",
        "    optimizer.step()\n",
        "  print('epoch %d, loss %.4f' % (epoch, loss))"
      ],
      "execution_count": 0,
      "outputs": []
    },
    {
      "cell_type": "code",
      "metadata": {
        "id": "J-oeFbhgIBtT",
        "colab_type": "code",
        "colab": {
          "base_uri": "https://localhost:8080/",
          "height": 1000
        },
        "outputId": "38e52d41-5150-486a-e43f-d8a3ed16c85a"
      },
      "source": [
        "for epoch in range(100):\n",
        "  train(epoch)"
      ],
      "execution_count": 103,
      "outputs": [
        {
          "output_type": "stream",
          "text": [
            "epoch 0, loss 0.9042\n",
            "epoch 1, loss 0.9460\n",
            "epoch 2, loss 1.0112\n",
            "epoch 3, loss 0.9112\n",
            "epoch 4, loss 1.0596\n",
            "epoch 5, loss 0.9927\n",
            "epoch 6, loss 0.9859\n",
            "epoch 7, loss 0.9046\n",
            "epoch 8, loss 0.8823\n",
            "epoch 9, loss 0.9782\n",
            "epoch 10, loss 0.9967\n",
            "epoch 11, loss 0.9657\n",
            "epoch 12, loss 0.9276\n",
            "epoch 13, loss 0.9421\n",
            "epoch 14, loss 0.8815\n",
            "epoch 15, loss 0.9621\n",
            "epoch 16, loss 0.9255\n",
            "epoch 17, loss 0.9389\n",
            "epoch 18, loss 0.9709\n",
            "epoch 19, loss 0.9341\n",
            "epoch 20, loss 0.9687\n",
            "epoch 21, loss 0.9643\n",
            "epoch 22, loss 0.9319\n",
            "epoch 23, loss 0.9811\n",
            "epoch 24, loss 0.9714\n",
            "epoch 25, loss 0.9312\n",
            "epoch 26, loss 0.9709\n",
            "epoch 27, loss 0.9288\n",
            "epoch 28, loss 0.9135\n",
            "epoch 29, loss 1.0290\n",
            "epoch 30, loss 0.9460\n",
            "epoch 31, loss 0.9159\n",
            "epoch 32, loss 0.9232\n",
            "epoch 33, loss 0.9482\n",
            "epoch 34, loss 0.9381\n",
            "epoch 35, loss 0.9913\n",
            "epoch 36, loss 0.9346\n",
            "epoch 37, loss 0.9159\n",
            "epoch 38, loss 0.8704\n",
            "epoch 39, loss 0.9805\n",
            "epoch 40, loss 0.9117\n",
            "epoch 41, loss 0.8914\n",
            "epoch 42, loss 0.8696\n",
            "epoch 43, loss 0.9225\n",
            "epoch 44, loss 0.9943\n",
            "epoch 45, loss 0.9639\n",
            "epoch 46, loss 0.8848\n",
            "epoch 47, loss 0.9689\n",
            "epoch 48, loss 0.9074\n",
            "epoch 49, loss 1.0325\n",
            "epoch 50, loss 0.9013\n",
            "epoch 51, loss 1.0129\n",
            "epoch 52, loss 0.9379\n",
            "epoch 53, loss 0.9283\n",
            "epoch 54, loss 0.9334\n",
            "epoch 55, loss 0.9354\n",
            "epoch 56, loss 0.9324\n",
            "epoch 57, loss 0.9145\n",
            "epoch 58, loss 0.9293\n",
            "epoch 59, loss 0.8851\n",
            "epoch 60, loss 0.8910\n",
            "epoch 61, loss 0.9292\n",
            "epoch 62, loss 0.9567\n",
            "epoch 63, loss 0.9366\n",
            "epoch 64, loss 0.9051\n",
            "epoch 65, loss 0.8994\n",
            "epoch 66, loss 0.9485\n",
            "epoch 67, loss 0.9181\n",
            "epoch 68, loss 0.9038\n",
            "epoch 69, loss 0.9004\n",
            "epoch 70, loss 0.9153\n",
            "epoch 71, loss 0.8724\n",
            "epoch 72, loss 0.8920\n",
            "epoch 73, loss 0.9206\n",
            "epoch 74, loss 0.9268\n",
            "epoch 75, loss 0.8896\n",
            "epoch 76, loss 0.9552\n",
            "epoch 77, loss 0.8519\n",
            "epoch 78, loss 0.9378\n",
            "epoch 79, loss 0.8868\n",
            "epoch 80, loss 0.8786\n",
            "epoch 81, loss 0.9295\n",
            "epoch 82, loss 0.8102\n",
            "epoch 83, loss 0.8585\n",
            "epoch 84, loss 0.8971\n",
            "epoch 85, loss 0.8535\n",
            "epoch 86, loss 0.8773\n",
            "epoch 87, loss 0.9160\n",
            "epoch 88, loss 0.8918\n",
            "epoch 89, loss 0.9562\n",
            "epoch 90, loss 0.9077\n",
            "epoch 91, loss 0.9011\n",
            "epoch 92, loss 0.9071\n",
            "epoch 93, loss 0.8490\n",
            "epoch 94, loss 0.8874\n",
            "epoch 95, loss 0.8836\n",
            "epoch 96, loss 0.9596\n",
            "epoch 97, loss 0.9774\n",
            "epoch 98, loss 0.9310\n",
            "epoch 99, loss 0.9999\n"
          ],
          "name": "stdout"
        }
      ]
    },
    {
      "cell_type": "code",
      "metadata": {
        "id": "vbijZHiCMT9Q",
        "colab_type": "code",
        "colab": {}
      },
      "source": [
        "def test():\n",
        "  model.eval()\n",
        "  correct = 0\n",
        "  total = 0\n",
        "  for data, label in test_data_loader:\n",
        "    data, label = Variable(data).cuda(), Variable(label).cuda()\n",
        "    outputs = model(data)\n",
        "    _, predicted = torch.max(outputs.data, 1)\n",
        "    total += label.size(0)\n",
        "    correct += (predicted == label).sum().item()\n",
        " \n",
        "  print('Accuracy of the network on the 10000 test images: %d %%' % (\n",
        "    100 * correct / total))\n",
        "   "
      ],
      "execution_count": 0,
      "outputs": []
    },
    {
      "cell_type": "code",
      "metadata": {
        "id": "3J9cNseONOV7",
        "colab_type": "code",
        "colab": {
          "base_uri": "https://localhost:8080/",
          "height": 34
        },
        "outputId": "72de4669-7ee8-4976-9ad0-fce44a049610"
      },
      "source": [
        "test()"
      ],
      "execution_count": 105,
      "outputs": [
        {
          "output_type": "stream",
          "text": [
            "Accuracy of the network on the 10000 test images: 48 %\n"
          ],
          "name": "stdout"
        }
      ]
    }
  ]
}